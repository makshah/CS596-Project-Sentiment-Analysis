{
 "cells": [
  {
   "cell_type": "markdown",
   "metadata": {},
   "source": [
    "## CS596 - MACHINE LEARNING PROJECT: Twitter Sentiment Analysis using Long Short-Term Memory (LSTM), Support Vector Machine and Logistic Regression.\n",
    "<l>\n",
    "<li>Members: Rachana Ramesh(824674286), Durgashree Shetty(822065511), Meet Shah (824166818) </li>\n",
    "<li>Dataset: Twitter Sentiment Analysis (AnalyticsVidhya) </li>\n",
    "<li>Packages used: numpy, pandas, nltk, sklearn, gensim, torch,  </li>\n",
    "<l>\n",
    "The backend code for each model is written in the '.py' files which we have imported in the main.ipynb file.  \n",
    "\n",
    "<b>Note:</b> \n",
    "<br>\n",
    "<li>Make sure that *Logistic_Regression_Sentiment_Analysis.py*, *LSTM_RNN_Sentiment_Analysis.py* , *SVM_Sentiment_Analysis.py* are in the same directory as the *Sentiment Analysis.ipynb* </li>\n",
    "<li>Make sure that the datasets: *TrainingData.csv* and *TestingData.csv* are in the same directory as the main.ipynb </li>\n",
    "<li>The outputs for Logistic Regression are stored in the \".csv\" file named *Logistic_bag_of_words.csv* and *Logistic_TFIDF.csv* for Sentiment Analysis using Bag of Words method and TF-IDF method respectively.</li>\n",
    "<li>The outputs for SVM are stored in the \".csv\" file named *sub_svm_bow.csv* and *sub_svm_tf.csv* for Bag of Words method and TF-IDF method respectively.</li>\n",
    "<li>The outputs for LSTM RNN are stored in the \".csv\" file named *RNN_submission.csv*.</li>"
   ]
  },
  {
   "cell_type": "code",
   "execution_count": 1,
   "metadata": {},
   "outputs": [
    {
     "name": "stdout",
     "output_type": "stream",
     "text": [
      "Epoch: 1/3... Step: 100... Loss: 0.339563... Val Loss: 0.242365\n",
      "Epoch: 1/3... Step: 200... Loss: 0.292356... Val Loss: 0.192036\n",
      "Epoch: 1/3... Step: 300... Loss: 0.186646... Val Loss: 0.168051\n",
      "Epoch: 1/3... Step: 400... Loss: 0.091312... Val Loss: 0.151018\n",
      "Epoch: 1/3... Step: 500... Loss: 0.098577... Val Loss: 0.142040\n",
      "Epoch: 2/3... Step: 600... Loss: 0.123859... Val Loss: 0.161365\n",
      "Epoch: 2/3... Step: 700... Loss: 0.155028... Val Loss: 0.134674\n",
      "Epoch: 2/3... Step: 800... Loss: 0.183037... Val Loss: 0.134289\n",
      "Epoch: 2/3... Step: 900... Loss: 0.084552... Val Loss: 0.167028\n",
      "Epoch: 2/3... Step: 1000... Loss: 0.026308... Val Loss: 0.143172\n",
      "Epoch: 3/3... Step: 1100... Loss: 0.004793... Val Loss: 0.204381\n",
      "Epoch: 3/3... Step: 1200... Loss: 0.022951... Val Loss: 0.163372\n",
      "Epoch: 3/3... Step: 1300... Loss: 0.179020... Val Loss: 0.147772\n",
      "Epoch: 3/3... Step: 1400... Loss: 0.011221... Val Loss: 0.160210\n",
      "Epoch: 3/3... Step: 1500... Loss: 0.021539... Val Loss: 0.179244\n",
      "RNN Test loss: 0.155\n",
      "RNN Test accuracy: 94.119\n"
     ]
    }
   ],
   "source": [
    "%run LSTM_RNN_Sentiment_Analysis.py"
   ]
  },
  {
   "cell_type": "code",
   "execution_count": 2,
   "metadata": {},
   "outputs": [
    {
     "name": "stderr",
     "output_type": "stream",
     "text": [
      "D:\\PYTHON\\Anaconda\\lib\\site-packages\\IPython\\html.py:14: ShimWarning: The `IPython.html` package has been deprecated since IPython 4.0. You should import from `notebook` instead. `IPython.html.widgets` has moved to `ipywidgets`.\n",
      "  \"`IPython.html.widgets` has moved to `ipywidgets`.\", ShimWarning)\n",
      "100%|█████████████████████████████████████████████████| 49159/49159 [00:00<00:00, 2735420.49it/s]\n"
     ]
    },
    {
     "name": "stdout",
     "output_type": "stream",
     "text": [
      "Bag of Words F1 score is  0.50831792976\n",
      "Bag of Words Accuracy is  0.944519762228\n",
      "TF-IDF F1 score is  0.510483135825\n",
      "TF-IDF Accuracy is  0.943998331421\n",
      "Word to Vector F1 score is  0.600778210117\n",
      "Word to Vector Accuracy is  0.946501199291\n"
     ]
    }
   ],
   "source": [
    "%run SVM_Sentiment_Analysis.py"
   ]
  },
  {
   "cell_type": "code",
   "execution_count": 3,
   "metadata": {},
   "outputs": [
    {
     "name": "stdout",
     "output_type": "stream",
     "text": [
      "Using Bag of Words method:\n",
      "Logistic Regression F1 score using Bag of Words method is: 0.482621648461\n",
      "Logistic Regression Accuraccy using Bag of Words method is: 0.945666910001 \n",
      "Which is equivalent to: 94.57 %\n",
      "Bag of Words Training time: 1576381565.793829s\n",
      "Bag of Words Prediction time: 0.004995s\n",
      "\n",
      "\n",
      "Using TF-TDF method:\n",
      "Logistic Regression F1 Score using TF-IDF method is: 0.458773784355\n",
      "Logistic Regression prediction using TF-IDF method is: 0.946605485452 \n",
      "Which is equivalent to: 94.66 %\n",
      "TF-IDF Training time: 1576381567.286654s and Prediction time: 0.004994s\n"
     ]
    }
   ],
   "source": [
    "%run Logistic_Regression_Sentiment_Analysis.py"
   ]
  }
 ],
 "metadata": {
  "kernelspec": {
   "display_name": "Python 3",
   "language": "python",
   "name": "python3"
  },
  "language_info": {
   "codemirror_mode": {
    "name": "ipython",
    "version": 3
   },
   "file_extension": ".py",
   "mimetype": "text/x-python",
   "name": "python",
   "nbconvert_exporter": "python",
   "pygments_lexer": "ipython3",
   "version": "3.6.1"
  }
 },
 "nbformat": 4,
 "nbformat_minor": 2
}
